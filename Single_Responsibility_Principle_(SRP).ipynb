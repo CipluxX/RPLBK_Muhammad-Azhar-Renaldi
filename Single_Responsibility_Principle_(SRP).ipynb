{
  "nbformat": 4,
  "nbformat_minor": 0,
  "metadata": {
    "colab": {
      "provenance": [],
      "authorship_tag": "ABX9TyNdQ9aohpV9mceNX94ivyf/",
      "include_colab_link": true
    },
    "kernelspec": {
      "name": "python3",
      "display_name": "Python 3"
    },
    "language_info": {
      "name": "python"
    }
  },
  "cells": [
    {
      "cell_type": "markdown",
      "metadata": {
        "id": "view-in-github",
        "colab_type": "text"
      },
      "source": [
        "<a href=\"https://colab.research.google.com/github/CipluxX/RPLBK_Muhammad-Azhar-Renaldi/blob/main/Single_Responsibility_Principle_(SRP).ipynb\" target=\"_parent\"><img src=\"https://colab.research.google.com/assets/colab-badge.svg\" alt=\"Open In Colab\"/></a>"
      ]
    },
    {
      "cell_type": "code",
      "execution_count": 3,
      "metadata": {
        "colab": {
          "base_uri": "https://localhost:8080/"
        },
        "id": "dNxEjPYHL4AW",
        "outputId": "381b2898-3a9f-4c01-eca7-d1195415009e"
      },
      "outputs": [
        {
          "output_type": "stream",
          "name": "stdout",
          "text": [
            "User Azhar telah tersimpan dalam database.\n",
            "Mengirim email ke muhammadazhar@undiptekkom.com dengan subject 'Selamat Datang' dan pesan 'Terima Kasih Telah Mendaftar!'.\n"
          ]
        }
      ],
      "source": [
        "class User:\n",
        "    def __init__(self, username: str, email: str):\n",
        "        self.username = username\n",
        "        self.email = email\n",
        "\n",
        "    def get_username(self) -> str:\n",
        "        return self.username\n",
        "\n",
        "    def get_email(self) -> str:\n",
        "        return self.email\n",
        "\n",
        "\n",
        "class UserRepository:\n",
        "    def save_user(self, user: User):\n",
        "        # Logika untuk menyimpan data user ke dalam database\n",
        "        print(f\"User {user.get_username()} telah tersimpan dalam database.\")\n",
        "\n",
        "    def delete_user(self, user: User):\n",
        "        # Logika untuk menghapus user dari database\n",
        "        print(f\"User {user.get_username()} telah terhapus dari database.\")\n",
        "\n",
        "\n",
        "class EmailService:\n",
        "    def send_email(self, user: User, subject: str, message: str):\n",
        "        # Logika untuk mengirimkan email\n",
        "        print(f\"Mengirim email ke {user.get_email()} dengan subject '{subject}' dan pesan '{message}'.\")\n",
        "\n",
        "\n",
        "# Contoh penggunaan\n",
        "user = User(\"Azhar\", \"muhammadazhar@undiptekkom.com\")\n",
        "repository = UserRepository()\n",
        "email_service = EmailService()\n",
        "\n",
        "repository.save_user(user)\n",
        "email_service.send_email(user, \"Selamat Datang\", \"Terima Kasih Telah Mendaftar!\")\n"
      ]
    }
  ]
}